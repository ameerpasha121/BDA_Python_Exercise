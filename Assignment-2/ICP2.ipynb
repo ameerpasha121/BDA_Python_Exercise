{
  "nbformat": 4,
  "nbformat_minor": 0,
  "metadata": {
    "colab": {
      "provenance": []
    },
    "kernelspec": {
      "name": "python3",
      "display_name": "Python 3"
    },
    "language_info": {
      "name": "python"
    }
  },
  "cells": [
    {
      "cell_type": "code",
      "execution_count": 13,
      "metadata": {
        "colab": {
          "base_uri": "https://localhost:8080/"
        },
        "id": "wFZh2djXSV0s",
        "outputId": "a07da2d6-c87e-4d00-9ca7-e806d6b49e70"
      },
      "outputs": [
        {
          "output_type": "stream",
          "name": "stdout",
          "text": [
            "Instance count: 2, Class count: 3\n",
            "Instance count: 1, Class count: 3\n"
          ]
        }
      ],
      "source": [
        "class Counter:\n",
        "    count = 0\n",
        "\n",
        "    def __init__(self):  # Fixed constructor\n",
        "        self._count = 0\n",
        "\n",
        "    def increment(self):\n",
        "       self._count += 1\n",
        "       Counter.count += 1\n",
        "\n",
        "    def get_counts(self):\n",
        "       return f\"Instance count: {self._count}, Class count: {Counter.count}\"\n",
        "\n",
        "a = Counter()\n",
        "b = Counter()\n",
        "\n",
        "a.increment()\n",
        "a.increment()\n",
        "b.increment()\n",
        "\n",
        "print(a.get_counts())\n",
        "print(b.get_counts())"
      ]
    },
    {
      "cell_type": "code",
      "source": [
        "def sum_all(*args):\n",
        "  return sum(args)\n",
        "\n",
        "print(\"Sum of 1,2,3 is:\", sum_all(1,2,3))\n",
        "print(\"Sum of 4,5,6,7 is:\", sum_all(4,5,6,7))"
      ],
      "metadata": {
        "colab": {
          "base_uri": "https://localhost:8080/"
        },
        "id": "bTjDmBBSShvi",
        "outputId": "1d782857-3a88-4d24-eb94-a156fc024512"
      },
      "execution_count": 14,
      "outputs": [
        {
          "output_type": "stream",
          "name": "stdout",
          "text": [
            "Sum of 1,2,3 is: 6\n",
            "Sum of 4,5,6,7 is: 22\n"
          ]
        }
      ]
    },
    {
      "cell_type": "code",
      "source": [
        "def first_word(a):\n",
        "    sorted_list = sorted(a)  # Sorts list alphabetically\n",
        "    return sorted_list[0]\n",
        "\n",
        "students = ['Mary', 'Zelda', 'Jimmy', 'Jack', 'Bartholomew', 'Gertrude']\n",
        "print(first_word(students))\n",
        "\n"
      ],
      "metadata": {
        "colab": {
          "base_uri": "https://localhost:8080/"
        },
        "id": "l56YBBUOSmri",
        "outputId": "42fb5635-b25e-4787-b6cd-6dd9b2221eb0"
      },
      "execution_count": 15,
      "outputs": [
        {
          "output_type": "stream",
          "name": "stdout",
          "text": [
            "Bartholomew\n"
          ]
        }
      ]
    },
    {
      "cell_type": "code",
      "source": [
        "class Employee:\n",
        "    employee_count = 0         # Class variable to count employees\n",
        "    total_salary = 0           # Class variable to sum salaries\n",
        "\n",
        "    def __init__(self, name, family, salary, department):\n",
        "        self.name = name\n",
        "        self.family = family\n",
        "        self.salary = salary\n",
        "        self.department = department\n",
        "\n",
        "        # Update class-level counters\n",
        "        Employee.employee_count += 1\n",
        "        Employee.total_salary += salary\n",
        "\n",
        "    @classmethod\n",
        "    def average_salary(cls):\n",
        "        if cls.employee_count == 0:\n",
        "            return 0\n",
        "        return cls.total_salary / cls.employee_count\n",
        "\n",
        "    def display_info(self):\n",
        "        print(f\"Name: {self.name}, Family: {self.family}, Salary: {self.salary}, Department: {self.department}\")\n",
        "\n",
        "# Subclass\n",
        "class Full_time_Employee(Employee):\n",
        "    def __init__(self, name, family, salary, department):\n",
        "        super().__init__(name, family, salary, department)\n",
        "\n",
        "# Create Employee and Full time Employee instances\n",
        "e1 = Employee(\"Ameer\", \"Shaik\", 50000, \"IT\")\n",
        "e2 = Full_time_Employee(\"Bob\", \"Johnson\", 60000, \"HR\")\n",
        "e3 = Full_time_Employee(\"Lalith\", \"Dabilpuram\", 55000, \"Finance\")\n",
        "\n",
        "# Display details each object details\n",
        "e1.display_info()\n",
        "e2.display_info()\n",
        "e3.display_info()\n",
        "\n",
        "print(\"\\nTotal Employees:\", Employee.employee_count)\n",
        "print(\"Average Salary:\", Employee.average_salary())"
      ],
      "metadata": {
        "colab": {
          "base_uri": "https://localhost:8080/"
        },
        "id": "XgKiJOX5T3ZN",
        "outputId": "4095ec17-f66f-4c38-8fe7-d24263905757"
      },
      "execution_count": 16,
      "outputs": [
        {
          "output_type": "stream",
          "name": "stdout",
          "text": [
            "Name: Ameer, Family: Shaik, Salary: 50000, Department: IT\n",
            "Name: Bob, Family: Johnson, Salary: 60000, Department: HR\n",
            "Name: Lalith, Family: Dabilpuram, Salary: 55000, Department: Finance\n",
            "\n",
            "Total Employees: 3\n",
            "Average Salary: 55000.0\n"
          ]
        }
      ]
    }
  ]
}