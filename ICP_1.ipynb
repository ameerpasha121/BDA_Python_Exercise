{
  "nbformat": 4,
  "nbformat_minor": 0,
  "metadata": {
    "colab": {
      "provenance": [],
      "authorship_tag": "ABX9TyNngAUUzVmr1aOP9ngHzTWj",
      "include_colab_link": true
    },
    "kernelspec": {
      "name": "python3",
      "display_name": "Python 3"
    },
    "language_info": {
      "name": "python"
    }
  },
  "cells": [
    {
      "cell_type": "markdown",
      "metadata": {
        "id": "view-in-github",
        "colab_type": "text"
      },
      "source": [
        "<a href=\"https://colab.research.google.com/github/ameerpasha121/BDA_Python_Exercise/blob/main/ICP_1.ipynb\" target=\"_parent\"><img src=\"https://colab.research.google.com/assets/colab-badge.svg\" alt=\"Open In Colab\"/></a>"
      ]
    },
    {
      "cell_type": "code",
      "execution_count": 68,
      "metadata": {
        "colab": {
          "base_uri": "https://localhost:8080/"
        },
        "id": "5KhpW0ogzadG",
        "outputId": "2c520dc6-4cf3-4263-c9a8-8b8e402b1946"
      },
      "outputs": [
        {
          "output_type": "stream",
          "name": "stdout",
          "text": [
            "Enter a string: python\n",
            "htyp\n"
          ]
        }
      ],
      "source": [
        "input_str = input(\"Enter a string: \")\n",
        "char_list = list(input_str)\n",
        "\n",
        "del char_list[-1]     # deletes 'n'\n",
        "del char_list[-1]    # deletes 'o'\n",
        "\n",
        "char_list.reverse()\n",
        "\n",
        "result = ''.join(char_list)\n",
        "print(result)"
      ]
    },
    {
      "cell_type": "code",
      "source": [
        "val = 'python'\n",
        "new_val = val[-3:: -1]\n",
        "new_val"
      ],
      "metadata": {
        "colab": {
          "base_uri": "https://localhost:8080/",
          "height": 36
        },
        "id": "HUplSo-W8ZT1",
        "outputId": "297c8eff-4f0b-43f5-fb01-5ef8ef155d36"
      },
      "execution_count": 55,
      "outputs": [
        {
          "output_type": "execute_result",
          "data": {
            "text/plain": [
              "'htyp'"
            ],
            "application/vnd.google.colaboratory.intrinsic+json": {
              "type": "string"
            }
          },
          "metadata": {},
          "execution_count": 55
        }
      ]
    },
    {
      "cell_type": "code",
      "source": [
        "num1 = float(input(\"Enter first number: \"))\n",
        "num2 = float(input(\"Enter second number: \"))\n",
        "\n",
        "# Perform arithmetic operations\n",
        "print(\"Addition:\", num1 + num2)\n",
        "print(\"Subtraction:\", num1 - num2)\n",
        "print(\"Multiplication:\", num1 * num2)\n",
        "\n",
        "# Check division by zero\n",
        "if num2 != 0:\n",
        "    print(\"Division:\", num1 / num2)\n",
        "else:\n",
        "    print(\"Division: Cannot divide by zero\")"
      ],
      "metadata": {
        "colab": {
          "base_uri": "https://localhost:8080/"
        },
        "id": "lkTeszFMzgFz",
        "outputId": "961fb6b5-0432-409f-cbef-0e687e8c8595"
      },
      "execution_count": 69,
      "outputs": [
        {
          "output_type": "stream",
          "name": "stdout",
          "text": [
            "Enter first number: 2\n",
            "Enter second number: 3\n",
            "Addition: 5.0\n",
            "Subtraction: -1.0\n",
            "Multiplication: 6.0\n",
            "Division: 0.6666666666666666\n"
          ]
        }
      ]
    },
    {
      "cell_type": "code",
      "source": [
        "str = input(\"Enter a sentence: \")\n",
        "str1 = str.replace(\"python\", \"pythons\")\n",
        "print(\"Modified sentence:\", str1)"
      ],
      "metadata": {
        "colab": {
          "base_uri": "https://localhost:8080/"
        },
        "id": "bKr9J9q61oj9",
        "outputId": "e9aae74b-eb07-4a85-e103-354e2de7c7aa"
      },
      "execution_count": 71,
      "outputs": [
        {
          "output_type": "stream",
          "name": "stdout",
          "text": [
            "Enter a sentence: I love playing with python\n",
            "Modified sentence: I love playing with pythons\n"
          ]
        }
      ]
    },
    {
      "cell_type": "code",
      "source": [
        "score = float(input(\"Enter your class score: \"))\n",
        "\n",
        "# Check and print grade\n",
        "if score >= 90:\n",
        "    print(\"Grade: A\")\n",
        "elif score >= 80:\n",
        "    print(\"Grade: B\")\n",
        "elif score >= 70:\n",
        "    print(\"Grade: C\")\n",
        "elif score >= 60:\n",
        "    print(\"Grade: D\")\n",
        "else:\n",
        "    print(\"Grade: F\")"
      ],
      "metadata": {
        "colab": {
          "base_uri": "https://localhost:8080/"
        },
        "id": "PguD8X932Z9K",
        "outputId": "e079a5f7-5458-4a28-8fb5-c4f06f647841"
      },
      "execution_count": 72,
      "outputs": [
        {
          "output_type": "stream",
          "name": "stdout",
          "text": [
            "Enter your class score: 96\n",
            "Grade: A\n"
          ]
        }
      ]
    },
    {
      "cell_type": "code",
      "source": [
        "x = [23, 'Python', 23.98]\n",
        "print(x)\n",
        "\n",
        "types_list = [type(i) for i in x]\n",
        "\n",
        "print(types_list)"
      ],
      "metadata": {
        "colab": {
          "base_uri": "https://localhost:8080/"
        },
        "id": "Lt1JbCcY2wpX",
        "outputId": "e190656a-6231-4e2e-b9c4-bd418e8a1a45"
      },
      "execution_count": 73,
      "outputs": [
        {
          "output_type": "stream",
          "name": "stdout",
          "text": [
            "[23, 'Python', 23.98]\n",
            "[<class 'int'>, <class 'str'>, <class 'float'>]\n"
          ]
        }
      ]
    },
    {
      "cell_type": "code",
      "source": [
        "IT_companies = {'Facebook', 'Google', 'Microsoft', 'Apple', 'IBM', 'Oracle', 'Amazon'}\n",
        "\n",
        "# 1. Find the length of the set IT_companies\n",
        "print(\"Length of IT_companies:\", len(IT_companies))"
      ],
      "metadata": {
        "colab": {
          "base_uri": "https://localhost:8080/"
        },
        "id": "VCqY8lRC3BG9",
        "outputId": "4730ed9b-d48d-4639-81ae-dfd3748545dd"
      },
      "execution_count": 74,
      "outputs": [
        {
          "output_type": "stream",
          "name": "stdout",
          "text": [
            "Length of IT_companies: 7\n"
          ]
        }
      ]
    },
    {
      "cell_type": "code",
      "source": [
        "# 2. Add 'Twitter' to IT_companies\n",
        "IT_companies.add('Twitter')\n",
        "print(\"After adding Twitter:\", IT_companies)"
      ],
      "metadata": {
        "colab": {
          "base_uri": "https://localhost:8080/"
        },
        "id": "hmTcQBBY3t5s",
        "outputId": "63f9260c-78c1-49af-a5f2-328317f345f6"
      },
      "execution_count": 75,
      "outputs": [
        {
          "output_type": "stream",
          "name": "stdout",
          "text": [
            "After adding Twitter: {'Twitter', 'Microsoft', 'Google', 'Oracle', 'Apple', 'Amazon', 'Facebook', 'IBM'}\n"
          ]
        }
      ]
    },
    {
      "cell_type": "code",
      "source": [
        "# 3. Insert multiple IT companies at once\n",
        "IT_companies.update(['LinkedIn', 'TCS', 'Infosys'])\n",
        "print(\"After adding multiple companies:\", IT_companies)"
      ],
      "metadata": {
        "colab": {
          "base_uri": "https://localhost:8080/"
        },
        "id": "VxylB1Zh3-Sf",
        "outputId": "8ffd3a13-a813-41f6-88b1-d70c6b9d71eb"
      },
      "execution_count": 76,
      "outputs": [
        {
          "output_type": "stream",
          "name": "stdout",
          "text": [
            "After adding multiple companies: {'Oracle', 'Infosys', 'Facebook', 'Microsoft', 'Apple', 'LinkedIn', 'IBM', 'Twitter', 'Google', 'TCS', 'Amazon'}\n"
          ]
        }
      ]
    },
    {
      "cell_type": "code",
      "source": [
        "# 4. Remove one company (e.g., 'IBM')\n",
        "IT_companies.remove('IBM')\n",
        "print(\"After removing IBM:\", IT_companies)"
      ],
      "metadata": {
        "colab": {
          "base_uri": "https://localhost:8080/"
        },
        "id": "GAvZXP503-Yy",
        "outputId": "96d84d6a-2ab8-415f-c27e-165fbc58d9e2"
      },
      "execution_count": 77,
      "outputs": [
        {
          "output_type": "stream",
          "name": "stdout",
          "text": [
            "After removing IBM: {'Oracle', 'Infosys', 'Facebook', 'Microsoft', 'Apple', 'LinkedIn', 'Twitter', 'Google', 'TCS', 'Amazon'}\n"
          ]
        }
      ]
    },
    {
      "cell_type": "code",
      "source": [
        "# 5. Difference between remove and discard\n",
        "# remove() raises KeyError if item not found, discard() does not.\n",
        "IT_companies.discard('meta')  # No error"
      ],
      "metadata": {
        "id": "PALrIIa44StC"
      },
      "execution_count": 78,
      "outputs": []
    },
    {
      "cell_type": "code",
      "source": [
        "IT_companies.remove('meta') #It will be throw an error"
      ],
      "metadata": {
        "colab": {
          "base_uri": "https://localhost:8080/",
          "height": 141
        },
        "id": "1CAtBSpb_fL8",
        "outputId": "d0aec8ef-b23c-4207-fb4f-69ac3297d7b8"
      },
      "execution_count": 79,
      "outputs": [
        {
          "output_type": "error",
          "ename": "KeyError",
          "evalue": "'meta'",
          "traceback": [
            "\u001b[0;31m---------------------------------------------------------------------------\u001b[0m",
            "\u001b[0;31mKeyError\u001b[0m                                  Traceback (most recent call last)",
            "\u001b[0;32m/tmp/ipython-input-79-2174227562.py\u001b[0m in \u001b[0;36m<cell line: 0>\u001b[0;34m()\u001b[0m\n\u001b[0;32m----> 1\u001b[0;31m \u001b[0mIT_companies\u001b[0m\u001b[0;34m.\u001b[0m\u001b[0mremove\u001b[0m\u001b[0;34m(\u001b[0m\u001b[0;34m'meta'\u001b[0m\u001b[0;34m)\u001b[0m \u001b[0;31m#It will be throw an error\u001b[0m\u001b[0;34m\u001b[0m\u001b[0;34m\u001b[0m\u001b[0m\n\u001b[0m",
            "\u001b[0;31mKeyError\u001b[0m: 'meta'"
          ]
        }
      ]
    },
    {
      "cell_type": "code",
      "source": [
        "# 6. Join A and B (union)\n",
        "A = {19, 22, 24, 20, 25, 26}\n",
        "B = {19, 22, 20, 25, 26, 24, 28, 27}\n",
        "print(\"A union B:\", A.union(B))"
      ],
      "metadata": {
        "colab": {
          "base_uri": "https://localhost:8080/"
        },
        "id": "Ikgd8j-y4dgK",
        "outputId": "c1a6105f-4303-4be6-e88b-551214ce7d92"
      },
      "execution_count": 80,
      "outputs": [
        {
          "output_type": "stream",
          "name": "stdout",
          "text": [
            "A union B: {19, 20, 22, 24, 25, 26, 27, 28}\n"
          ]
        }
      ]
    },
    {
      "cell_type": "code",
      "source": [
        "# 7. Find A intersection B\n",
        "print(\"A intersection B:\", A.intersection(B))"
      ],
      "metadata": {
        "colab": {
          "base_uri": "https://localhost:8080/"
        },
        "id": "Qak60TQ94pSX",
        "outputId": "8e77dc0f-ddd2-4997-e7d0-efa44d2e1f22"
      },
      "execution_count": 81,
      "outputs": [
        {
          "output_type": "stream",
          "name": "stdout",
          "text": [
            "A intersection B: {19, 20, 22, 24, 25, 26}\n"
          ]
        }
      ]
    },
    {
      "cell_type": "code",
      "source": [
        "# 8. Is A subset of B?\n",
        "print(\"Is A subset of B?\", A.issubset(B))"
      ],
      "metadata": {
        "colab": {
          "base_uri": "https://localhost:8080/"
        },
        "id": "x-VN-WZO41ou",
        "outputId": "e7876031-d76c-4bc3-eede-6a556bdd9ae8"
      },
      "execution_count": 20,
      "outputs": [
        {
          "output_type": "stream",
          "name": "stdout",
          "text": [
            "Is A subset of B? True\n"
          ]
        }
      ]
    },
    {
      "cell_type": "code",
      "source": [
        "# 9. Are A and B disjoint sets?\n",
        "print(\"Are A and B disjoint?\", A.isdisjoint(B))"
      ],
      "metadata": {
        "colab": {
          "base_uri": "https://localhost:8080/"
        },
        "id": "5YHgUQ1y5Cmp",
        "outputId": "17cb46af-0388-4a0d-d29e-74dc5eeee888"
      },
      "execution_count": 82,
      "outputs": [
        {
          "output_type": "stream",
          "name": "stdout",
          "text": [
            "Are A and B disjoint? False\n"
          ]
        }
      ]
    },
    {
      "cell_type": "code",
      "source": [
        "# 10. Join A with B and B with A\n",
        "print(\"A | B:\", A | B)\n",
        "print(\"B | A:\", B | A)"
      ],
      "metadata": {
        "colab": {
          "base_uri": "https://localhost:8080/"
        },
        "id": "wm8m3DZU5EMC",
        "outputId": "447481da-85e4-46c6-f844-494c72658cc8"
      },
      "execution_count": 83,
      "outputs": [
        {
          "output_type": "stream",
          "name": "stdout",
          "text": [
            "A | B: {19, 20, 22, 24, 25, 26, 27, 28}\n",
            "B | A: {19, 20, 22, 24, 25, 26, 27, 28}\n"
          ]
        }
      ]
    },
    {
      "cell_type": "code",
      "source": [
        "# 11. Symmetric difference between A and B\n",
        "print(\"Symmetric difference:\", A.symmetric_difference(B))"
      ],
      "metadata": {
        "colab": {
          "base_uri": "https://localhost:8080/"
        },
        "id": "McAobJKb5ZMK",
        "outputId": "9b4ad6c8-8083-4857-b531-f75457556684"
      },
      "execution_count": 84,
      "outputs": [
        {
          "output_type": "stream",
          "name": "stdout",
          "text": [
            "Symmetric difference: {27, 28}\n"
          ]
        }
      ]
    },
    {
      "cell_type": "code",
      "source": [
        "# 12. Delete sets completely\n",
        "del A\n",
        "del B"
      ],
      "metadata": {
        "id": "pcRUkClN-iaZ"
      },
      "execution_count": 85,
      "outputs": []
    },
    {
      "cell_type": "code",
      "source": [
        "# 13. Convert ages to a set and compare lengths\n",
        "age = [22, 19, 24, 25, 26, 24, 25, 24]\n",
        "age_set = set(age)\n",
        "print(\"Original age list length:\", len(age))\n",
        "print(\"Age set length:\", len(age_set))"
      ],
      "metadata": {
        "colab": {
          "base_uri": "https://localhost:8080/"
        },
        "id": "o2x1A19b-j57",
        "outputId": "565fdfad-cb75-4d0e-e9c5-6c5844a878bc"
      },
      "execution_count": 86,
      "outputs": [
        {
          "output_type": "stream",
          "name": "stdout",
          "text": [
            "Original age list length: 8\n",
            "Age set length: 5\n"
          ]
        }
      ]
    }
  ]
}