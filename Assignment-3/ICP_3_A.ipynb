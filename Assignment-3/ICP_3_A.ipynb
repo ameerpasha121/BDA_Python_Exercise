{
  "nbformat": 4,
  "nbformat_minor": 0,
  "metadata": {
    "colab": {
      "provenance": []
    },
    "kernelspec": {
      "name": "python3",
      "display_name": "Python 3"
    },
    "language_info": {
      "name": "python"
    }
  },
  "cells": [
    {
      "cell_type": "code",
      "execution_count": 9,
      "metadata": {
        "id": "YQFC4m87lw_R",
        "colab": {
          "base_uri": "https://localhost:8080/"
        },
        "outputId": "fbb49b3e-c459-4990-bd5d-1e81ac0fe95e"
      },
      "outputs": [
        {
          "output_type": "stream",
          "name": "stdout",
          "text": [
            "Original array:\n",
            " [ 8 19  6 11  7  4 16  1 13 13 15  5 16 14  8]\n",
            "\n",
            "Reshaped array (3x5):\n",
            " [[ 8 19  6 11  7]\n",
            " [ 4 16  1 13 13]\n",
            " [15  5 16 14  8]]\n",
            "\n",
            "Shape of array: (3, 5)\n",
            "\n",
            "Array after replacing max in each row with 0:\n",
            " [[ 8  0  6 11  7]\n",
            " [ 4  0  1 13 13]\n",
            " [15  5  0 14  8]]\n"
          ]
        }
      ],
      "source": [
        "import numpy as np\n",
        "\n",
        "# 1. Create a random vector of size 15 with integers from 1 to 20\n",
        "arr = np.random.randint(1, 21, size=15)\n",
        "print(\"Original array:\\n\", arr)\n",
        "\n",
        "# 2. Reshape the array to 3x5\n",
        "arr = arr.reshape(3, 5)\n",
        "print(\"\\nReshaped array (3x5):\\n\", arr)\n",
        "\n",
        "# 3. Print the shape of the array\n",
        "print(\"\\nShape of array:\", arr.shape)\n",
        "\n",
        "# 4. Replace the max in each row with 0\n",
        "for i in range(arr.shape[0]):\n",
        "    max_index = arr[i].argmax()\n",
        "    arr[i][max_index] = 0\n",
        "\n",
        "print(\"\\nArray after replacing max in each row with 0:\\n\", arr)"
      ]
    },
    {
      "cell_type": "code",
      "source": [
        "import numpy as np\n",
        "\n",
        "# Create a 4x3 array of 4-byte integers (int32)\n",
        "a = np.array([[1, 2, 3],\n",
        "                [4, 5, 6],\n",
        "                [7, 8, 9],\n",
        "                [10, 11, 12]], dtype=np.int32)\n",
        "\n",
        "# Print array\n",
        "print(\"Array:\\n\", a)\n",
        "\n",
        "# Print shape\n",
        "print(\"\\nShape:\", a.shape)\n",
        "\n",
        "# Print type of the object\n",
        "print(\"Type:\", type(a))\n",
        "\n",
        "# Print data type of the elements\n",
        "print(\"Data Type:\", a.dtype)"
      ],
      "metadata": {
        "id": "ehoWEqJ1m26J",
        "colab": {
          "base_uri": "https://localhost:8080/"
        },
        "outputId": "a7248b21-bd69-4673-839d-220cc9af2803"
      },
      "execution_count": 10,
      "outputs": [
        {
          "output_type": "stream",
          "name": "stdout",
          "text": [
            "Array:\n",
            " [[ 1  2  3]\n",
            " [ 4  5  6]\n",
            " [ 7  8  9]\n",
            " [10 11 12]]\n",
            "\n",
            "Shape: (4, 3)\n",
            "Type: <class 'numpy.ndarray'>\n",
            "Data Type: int32\n"
          ]
        }
      ]
    },
    {
      "cell_type": "code",
      "source": [
        "A = np.array([[3, -2],\n",
        "              [1,  0]])\n",
        "\n",
        "# Compute eigenvalues and right eigenvectors\n",
        "eigenvalues, eigenvectors = np.linalg.eig(A)\n",
        "\n",
        "# Print results\n",
        "print(\"Eigenvalues:\")\n",
        "print(eigenvalues)\n",
        "\n",
        "print(\"\\nRight Eigenvectors:\")\n",
        "print(eigenvectors)"
      ],
      "metadata": {
        "colab": {
          "base_uri": "https://localhost:8080/"
        },
        "id": "1S2ipmUrD1n0",
        "outputId": "3e03c42e-47f7-4f4b-b566-14852f3b8544"
      },
      "execution_count": 11,
      "outputs": [
        {
          "output_type": "stream",
          "name": "stdout",
          "text": [
            "Eigenvalues:\n",
            "[2. 1.]\n",
            "\n",
            "Right Eigenvectors:\n",
            "[[0.89442719 0.70710678]\n",
            " [0.4472136  0.70710678]]\n"
          ]
        }
      ]
    },
    {
      "cell_type": "code",
      "source": [
        "b = np.array([[0, 1, 2],\n",
        "                [3, 4, 5]])\n",
        "\n",
        "#Sum of diagonal elements\n",
        "sum_diagonal = np.sum(np.diagonal(b))\n",
        "\n",
        "print(\"Sum of diagonal elements:\", sum_diagonal)\n"
      ],
      "metadata": {
        "colab": {
          "base_uri": "https://localhost:8080/"
        },
        "id": "Hx7Omz03DaS6",
        "outputId": "32c2ee56-adf4-4f11-91df-75dc526503b7"
      },
      "execution_count": 12,
      "outputs": [
        {
          "output_type": "stream",
          "name": "stdout",
          "text": [
            "Sum of diagonal elements: 4\n"
          ]
        }
      ]
    },
    {
      "cell_type": "code",
      "source": [
        "arr = np.array([[1, 2],\n",
        "                [3, 4],\n",
        "                [5, 6]])\n",
        "\n",
        "# Reshape it to 2x3\n",
        "reshaped_arr = arr.reshape(2, 3)\n",
        "\n",
        "print(\"Original array (3x2):\")\n",
        "print(arr)\n",
        "\n",
        "print(\"\\nReshaped array (2x3):\")\n",
        "print(reshaped_arr)"
      ],
      "metadata": {
        "colab": {
          "base_uri": "https://localhost:8080/"
        },
        "id": "QMGHZhelEAWx",
        "outputId": "4ed469a6-1ba0-4dbe-984a-f0ac33112288"
      },
      "execution_count": 5,
      "outputs": [
        {
          "output_type": "stream",
          "name": "stdout",
          "text": [
            "Original array (3x2):\n",
            "[[1 2]\n",
            " [3 4]\n",
            " [5 6]]\n",
            "\n",
            "Reshaped array (2x3):\n",
            "[[1 2 3]\n",
            " [4 5 6]]\n"
          ]
        }
      ]
    }
  ]
}